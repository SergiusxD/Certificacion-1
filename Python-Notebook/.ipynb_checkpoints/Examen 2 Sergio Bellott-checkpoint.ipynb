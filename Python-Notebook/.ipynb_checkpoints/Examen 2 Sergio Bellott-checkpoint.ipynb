{
 "cells": [
  {
   "cell_type": "markdown",
   "metadata": {},
   "source": [
    "### Segundo Examen    Sergio Bellott  32275\n",
    "\n",
    "### 02-30 \n",
    "\n",
    "Una sucesion de Fibonacci es una sucesion de numeros en la que cada numero es la suma de los dos anteriores. Implemente un programa que pida los dos primeros valores de la sucesion y la cantidad de valores a mostrar  y que muestre esa cantidad de valores."
   ]
  },
  {
   "cell_type": "code",
   "execution_count": 52,
   "metadata": {},
   "outputs": [
    {
     "name": "stdout",
     "output_type": "stream",
     "text": [
      "Sucesion de Fibonacci\n",
      "Escriba el primera valor de la sucesion: 3\n",
      "Escriba el segundo valor de la sucesion: 6\n",
      "Escriba el numero de valores a mostrar: 6\n",
      "3 6 9 15 24 39 "
     ]
    }
   ],
   "source": [
    "print(\"Sucesion de Fibonacci\")\n",
    "n1=int(input(\"Escriba el primera valor de la sucesion: \"))\n",
    "n2=int(input(\"Escriba el segundo valor de la sucesion: \"))\n",
    "maximo=int(input(\"Escriba el numero de valores a mostrar: \"))\n",
    "lista=[]\n",
    "if(maximo>1):\n",
    "    aux=2\n",
    "    lista.append(n1)\n",
    "    lista.append(n2)\n",
    "    while aux<=maximo-1:\n",
    "        lista.append(lista[aux-2]+lista[aux-1])\n",
    "        aux=aux+1\n",
    "    for i in (range(0,len(lista))):\n",
    "        print(lista[i],end=\" \")\n",
    "else:\n",
    "    print(\"Se deben mostrar al menos 2 valores!\")"
   ]
  },
  {
   "cell_type": "markdown",
   "metadata": {},
   "source": [
    "### 04-30\n",
    "\n",
    "Alina es una niña a la que le gusta los numeros. Esta vez aprendio a calcular la suma de los divisores de un numero. Su padre, al darse cuenta de que aprende muy rapido, decide enseñarle una version mas interesante de ese problema: calcula la suma de los divisores de N que no son multiplos de K (ingrese manualmente cada numero)"
   ]
  },
  {
   "cell_type": "code",
   "execution_count": 1,
   "metadata": {},
   "outputs": [
    {
     "name": "stdout",
     "output_type": "stream",
     "text": [
      "Ingrese el numero de casos: 1\n",
      "El numero: 20\n",
      "el otro Numero: 1\n",
      "0\n"
     ]
    }
   ],
   "source": [
    "numero=int(input(\"Ingrese el numero de casos: \"))\n",
    "\n",
    "divs=[]\n",
    "otro=[]\n",
    "sumados=[]\n",
    "\n",
    "for i in range(0,numero):\n",
    "    div = int(input(\"El numero: \"))\n",
    "    k = int(input(\"el otro Numero: \"))\n",
    "    divs.append(div)\n",
    "    otro.append(k)\n",
    "for i in range(0, numero):\n",
    "    suma = 0\n",
    "    res = []\n",
    "    for j in range(1, divs[i]+1):\n",
    "        if  divs[i]%j == 0:\n",
    "            res.append(j)\n",
    "    for k in range(0,len(res)):\n",
    "        if(res[k]%otro[i]==0):\n",
    "            continue\n",
    "        else:\n",
    "            suma=suma+res[k]\n",
    "    sumados.append(suma)\n",
    "for i in (range(0,len(sumados))):\n",
    "        print(sumados[i])"
   ]
  },
  {
   "cell_type": "markdown",
   "metadata": {},
   "source": [
    "### 05-40\n",
    "\n",
    "El juego \"Cacho\" consiste en tirar cinco dados(a1,a2,a3,a4,a5) y luego anotar el resultado de acuerdo a las siguientes reglas y puntos: 50p Grande, cuando los 5 dados obtienen el mismo valor.\n",
    "\n",
    "1 p x numero de unos (balas) obtenidas\n",
    "4 p x numero de cuatros (cuadras) obtenidos\n",
    "25 p escalera num. consecutivos(e.g 34561)\n",
    "2 p x numero de dos(tontos) obtenidos\n",
    "5 p x numero de cincos(quinas) obtenidos\n",
    "35 p full, un valor se repite 2 veces y otro 3\n",
    "3 p x numero de tres (trenes) obtenido\n",
    "6 p x numero de seis (senas) obtenid\n",
    "45 p poker, valor que se repite 4 veces\n"
   ]
  },
  {
   "cell_type": "code",
   "execution_count": 56,
   "metadata": {},
   "outputs": [
    {
     "name": "stdout",
     "output_type": "stream",
     "text": [
      "TIRADA DE DADOS\n",
      "Numero de dados: 5\n",
      "4 3 5 6 2 "
     ]
    }
   ],
   "source": [
    "import random\n",
    "\n",
    "print (\"TIRADA DE DADOS\")\n",
    "aux = int(input(\"Numero de dados: \"))\n",
    "dados = []\n",
    "escalera = [1,2,3,4,5]\n",
    "cuadras = [1,4,4,4,5]\n",
    "\n",
    "if (aux > 0):\n",
    "    for i in range (0,aux):\n",
    "        dados += i\n",
    "        print (random.randint(1,6), end=\" \")\n",
    "else:\n",
    "    print (\"Imposible!\")"
   ]
  },
  {
   "cell_type": "code",
   "execution_count": null,
   "metadata": {},
   "outputs": [],
   "source": []
  }
 ],
 "metadata": {
  "kernelspec": {
   "display_name": "Python 3",
   "language": "python",
   "name": "python3"
  },
  "language_info": {
   "codemirror_mode": {
    "name": "ipython",
    "version": 3
   },
   "file_extension": ".py",
   "mimetype": "text/x-python",
   "name": "python",
   "nbconvert_exporter": "python",
   "pygments_lexer": "ipython3",
   "version": "3.7.4"
  }
 },
 "nbformat": 4,
 "nbformat_minor": 2
}
