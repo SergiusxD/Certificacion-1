{
 "cells": [
  {
   "cell_type": "markdown",
   "metadata": {},
   "source": [
    "Ejercicio 1 Escriba un programa que lea un entero (input), lo multiplique por 3 y lo imprima."
   ]
  },
  {
   "cell_type": "code",
   "execution_count": 2,
   "metadata": {},
   "outputs": [
    {
     "name": "stdout",
     "output_type": "stream",
     "text": [
      "Ingrese un numero: 5\n",
      "15\n"
     ]
    }
   ],
   "source": [
    "numero = int(input(\"Ingrese un numero: \"))\n",
    "print (numero*3)"
   ]
  },
  {
   "cell_type": "markdown",
   "metadata": {},
   "source": [
    "Ejercicio 2 Escribir un programa que pida al cliente la longitud y ancho de la habitación e\n",
    "imprima la superficie de la habitación, los valores podrán tener decimales.\n",
    "Formato de salida deseado: xx.yy m^2"
   ]
  },
  {
   "cell_type": "code",
   "execution_count": 4,
   "metadata": {},
   "outputs": [
    {
     "name": "stdout",
     "output_type": "stream",
     "text": [
      "Ingrese la longitud: 25.585\n",
      "Ingrese el ancho: 85.65\n",
      "2191.36m^2\n"
     ]
    }
   ],
   "source": [
    "longitud = float(input(\"Ingrese la longitud: \"))\n",
    "ancho = float(input(\"Ingrese el ancho: \"))\n",
    "round (longitud,2)\n",
    "round (ancho,2)\n",
    "superficie = longitud*ancho\n",
    "superficie = round(superficie,2)\n",
    "print (str(superficie)+\"m^2\")"
   ]
  },
  {
   "cell_type": "markdown",
   "metadata": {},
   "source": [
    "Ejercicio 3 Determinar el área y volumen de un cilindro cuyas dimensiones (radio - altura) se lean\n",
    "desde el teclado.\n",
    "Formato de salida deseado: xx.yy m^3"
   ]
  },
  {
   "cell_type": "code",
   "execution_count": 10,
   "metadata": {},
   "outputs": [
    {
     "name": "stdout",
     "output_type": "stream",
     "text": [
      "Ingrese el radio: 5\n",
      "Ingrese la altura: 2\n",
      "El area de un cilindro es 62.83m^3 y el volumen de un cilindro es 157.08m^3\n"
     ]
    }
   ],
   "source": [
    "import math\n",
    "radio = float(input(\"Ingrese el radio: \"))\n",
    "altura = float(input(\"Ingrese la altura: \"))\n",
    "area = math.pi*radio*altura*2\n",
    "area = round(area,2)\n",
    "volumen = math.pi*(radio**2)*altura\n",
    "volumen = round(volumen,2)\n",
    "print (\"El area de un cilindro es \" + str(area) + \"m^3\" + \" y el volumen de un cilindro es \"+ str(volumen)+ \"m^3\")"
   ]
  },
  {
   "cell_type": "markdown",
   "metadata": {},
   "source": [
    "Ejercicio 4 La fuerza de atracción entre dos masas m1 y m2 separadas por una distancia d, está\n",
    "dada por la fórmula:\n",
    "\n",
    "Donde G es la constante de gravitación universal:\n",
    "\n",
    "Escriba un programa que lea la masa de dos cuerpos y la distancia entre ellos y a\n",
    "continuación obtenga la fuerza gravitacional entre ella. La salida debe ser en dinas; un\n",
    "DINA es igual a g*cm/seg 2 .\n",
    "Formato de salida deseado: xx.yy dyn"
   ]
  },
  {
   "cell_type": "code",
   "execution_count": 14,
   "metadata": {},
   "outputs": [
    {
     "name": "stdout",
     "output_type": "stream",
     "text": [
      "Ingrese la masa 1: 10312\n",
      "Ingrese la masa 2: 123\n",
      "Ingrese la distancia: 1\n",
      "La fuerza gravitacional es 0.08dyn\n"
     ]
    }
   ],
   "source": [
    "masa1 = input(\"Ingrese la masa 1: \")\n",
    "masa2 = input(\"Ingrese la masa 2: \")\n",
    "distancia = input(\"Ingrese la distancia: \")\n",
    "resultado = (float(masa1)*float(masa2)*0.00000006673)/pow(float(distancia),2)\n",
    "resultado = round(resultado,2)\n",
    "print (\"La fuerza gravitacional es \" + str(resultado)+\"dyn\")"
   ]
  },
  {
   "cell_type": "markdown",
   "metadata": {},
   "source": [
    "Ejercicio 5 La famosa ecuación de Einstein para conversión de una masa m en energía viene dada\n",
    "por la fórmula\n",
    "\n",
    "Escribir un programa que lea una masa en gramos y obtenga la cantidad de energía\n",
    "producida cuando la masa se convierta en energía.\n",
    "Nota: se la masa se da en gramos, la fórmula produce la energía en ergios.\n",
    "Formato de salida deseado: xx.yy erg"
   ]
  },
  {
   "cell_type": "code",
   "execution_count": 18,
   "metadata": {},
   "outputs": [
    {
     "name": "stdout",
     "output_type": "stream",
     "text": [
      "Ingrese la masa: 15\n",
      "La cantidad de energia es 101179968750000.0 erg\n"
     ]
    }
   ],
   "source": [
    "import math\n",
    "masa = input(\"Ingrese la masa: \")\n",
    "resultado = 2.997925*pow(10,10)*pow(float(masa),3)\n",
    "print(\"La cantidad de energia es \"+ str(resultado) + \"erg\")"
   ]
  },
  {
   "cell_type": "markdown",
   "metadata": {},
   "source": [
    "Ejercicio 6 Escribir un programa que lea la hora en un día de notación 24 horas y escriba la respuesta en notación de 12 horas. Por ejemplo, si la entrada es 13:45, la salida será:\n",
    "1:45 PM El programa pedirá al usuario que introduzca exactamente cinco caracteres. Así, por\n",
    "ejemplo, las nueve en punto se introduce como: 09:00"
   ]
  },
  {
   "cell_type": "code",
   "execution_count": 29,
   "metadata": {},
   "outputs": [
    {
     "ename": "SyntaxError",
     "evalue": "invalid syntax (<ipython-input-29-f421c4f0cdfe>, line 5)",
     "output_type": "error",
     "traceback": [
      "\u001b[0;36m  File \u001b[0;32m\"<ipython-input-29-f421c4f0cdfe>\"\u001b[0;36m, line \u001b[0;32m5\u001b[0m\n\u001b[0;31m    else\u001b[0m\n\u001b[0m        ^\u001b[0m\n\u001b[0;31mSyntaxError\u001b[0m\u001b[0;31m:\u001b[0m invalid syntax\n"
     ]
    }
   ],
   "source": [
    "hora = input(\"Ingrese la hora\")\n",
    "aux = str(hora).split(\":\")\n",
    "if aux[0]>12:\n",
    "    print(int(aux[0]-12) + int(aux[1])+\"PM\" )\n",
    "else\n",
    "    print(int(aux[0]))+ int(aux[1]+ \"AM\")"
   ]
  },
  {
   "cell_type": "markdown",
   "metadata": {},
   "source": [
    "Ejercicio 7 Leer un número A, evaluar sucesivamente las expresiones siguientes y desplegar los resultados obtenidos en un archivo denominado “practica01.out”.\n",
    "B = A + 10\n",
    "C = 2 * B + A\n",
    "D = A + B + C + 5\n",
    "Formato de salida deseado:\n",
    "Ejercicio 9.\n",
    "A = xx\n",
    "B = yy\n",
    "C = zz\n",
    "D = xyz"
   ]
  },
  {
   "cell_type": "code",
   "execution_count": 25,
   "metadata": {},
   "outputs": [
    {
     "name": "stdout",
     "output_type": "stream",
     "text": [
      "Ingrese un numero: 54\n"
     ]
    }
   ],
   "source": [
    "a = input(\"Ingrese un numero: \")\n",
    "aux = float(a)\n",
    "b = float(a)+10\n",
    "c = 2*b+aux\n",
    "d = aux+b+c+5\n",
    "file = open(\"practica01.out\",\"w\")\n",
    "file.write(\"A=\" + str(aux) + \"\\nB=\" + str(b) + \"\\nC=\" + str(c) + \"\\nD=\" + str(d))\n",
    "file.close()"
   ]
  },
  {
   "cell_type": "markdown",
   "metadata": {},
   "source": [
    "Ejercicio 8 Hacer leer un número X de tipo decimal, hallar su valor absoluto y decimal, desplegar el resultado dentro del archivo “practica01.out”.\n",
    "Formato de salida deseado:\n",
    "Ejercicio 8.\n",
    "Número: xx.yy\n",
    "Valor absoluto: xx\n",
    "Parte decimal: yy"
   ]
  },
  {
   "cell_type": "code",
   "execution_count": 23,
   "metadata": {},
   "outputs": [
    {
     "name": "stdout",
     "output_type": "stream",
     "text": [
      "Ingrese un numero: 5.55\n",
      "Numero: 5.55\n",
      "Valor absoluto:  5\n",
      "Parte decimal:  55\n"
     ]
    }
   ],
   "source": [
    "import math\n",
    "x = float(input(\"Ingrese un numero: \"))\n",
    "print(\"Numero: \" + str(x))\n",
    "x = str(x).split(\".\")\n",
    "print(\"Valor absoluto: \",abs(int(x[0])))\n",
    "print(\"Parte decimal: \",x[1])"
   ]
  },
  {
   "cell_type": "markdown",
   "metadata": {},
   "source": [
    "Ejercicio 9  Leer a, b, c y d, hallar el menor y mayor de los cuatro números, desplegar su resultado en el archivo “practica01.out”."
   ]
  },
  {
   "cell_type": "code",
   "execution_count": 26,
   "metadata": {},
   "outputs": [
    {
     "name": "stdout",
     "output_type": "stream",
     "text": [
      "Maximo de la lista: 64.0\n",
      "\n",
      "Minimo de la lista: 182.0\n",
      "\n"
     ]
    }
   ],
   "source": [
    "file = open(\"practica01.out\",\"r\")\n",
    "values = file.read()\n",
    "a = values[values.index(\"A\") + 2:values.index(\"B\")]\n",
    "b = values[values.index(\"B\") + 2:values.index(\"C\")]\n",
    "c = values[values.index(\"C\") + 2:values.index(\"D\")]\n",
    "d = values[values.index(\"D\") + 2:]\n",
    "list=[a,b,c,d]\n",
    "print(\"Maximo de la lista:\",max(list))\n",
    "print(\"Minimo de la lista:\",min(list))"
   ]
  },
  {
   "cell_type": "markdown",
   "metadata": {},
   "source": [
    "Ejercicio 10 Dado los valores de X, Y, Z, evaluar A = X^2+Y^2+Z^2. Si se cumple que, A<100 y Y<5 calcular B = (X+Y)^2 – X*Z, caso contrario calcular B = (X-Y)^2 + X*Z. Desplegar A y B en el archivo “practica01.out”"
   ]
  },
  {
   "cell_type": "code",
   "execution_count": 27,
   "metadata": {},
   "outputs": [
    {
     "name": "stdout",
     "output_type": "stream",
     "text": [
      "Ingrese el valor x: 25\n",
      "Ingrese el valor y: 42\n",
      "Ingrese el valor z: 10\n"
     ]
    }
   ],
   "source": [
    "x = input(\"Ingrese el valor x: \")\n",
    "y = input(\"Ingrese el valor y: \")\n",
    "z = input(\"Ingrese el valor z: \")\n",
    "primero=pow(float(x),2) + pow(float(y),2) + pow(float(z),2)\n",
    "if primero<100 and int(y)<5:\n",
    "    segundo = pow((float(x) + float(y)),2) - (float(x)*float(z))\n",
    "else:\n",
    "    segundo = pow((float(x)-float(y)),2)+(float(x)*float(z))\n",
    "    \n",
    "file=open(\"practica01.out\",\"w\")\n",
    "file.write(\"A=\"+str(primero)+\"\\nB=\"+str(segundo))\n",
    "file.close()"
   ]
  },
  {
   "cell_type": "code",
   "execution_count": null,
   "metadata": {},
   "outputs": [],
   "source": []
  }
 ],
 "metadata": {
  "kernelspec": {
   "display_name": "Python 3",
   "language": "python",
   "name": "python3"
  },
  "language_info": {
   "codemirror_mode": {
    "name": "ipython",
    "version": 3
   },
   "file_extension": ".py",
   "mimetype": "text/x-python",
   "name": "python",
   "nbconvert_exporter": "python",
   "pygments_lexer": "ipython3",
   "version": "3.7.4"
  }
 },
 "nbformat": 4,
 "nbformat_minor": 2
}
