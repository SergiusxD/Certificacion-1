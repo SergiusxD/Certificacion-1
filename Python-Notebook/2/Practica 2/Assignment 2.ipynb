{
 "cells": [
  {
   "cell_type": "markdown",
   "metadata": {},
   "source": [
    "### Resolver con IF:"
   ]
  },
  {
   "cell_type": "markdown",
   "metadata": {},
   "source": [
    "21. Escribir un programa que determine si el año es bisiesto. Un año es bisiesto si es múltiplo de 4 (1988), excepto los múltiplos de 100 que no son bisiestos salvo que a su vez también sean múltiplos de 400 (1800no es bisiesto, 2000 sí)."
   ]
  },
  {
   "cell_type": "code",
   "execution_count": 2,
   "metadata": {},
   "outputs": [
    {
     "name": "stdout",
     "output_type": "stream",
     "text": [
      "Año: 2020\n",
      "Es bisiesto.\n"
     ]
    }
   ],
   "source": [
    "a = int(input(\"Año: \"))\n",
    "print((\"Es bisiesto.\" \n",
    "       if a % 400 == 0 or (a % 4 == 0 and a % 100 != 0) \n",
    "       else \"No es bisiesto.\") if a >= 0 else \"Error\")\n",
    "\n"
   ]
  },
  {
   "cell_type": "markdown",
   "metadata": {},
   "source": [
    "22. Dado los valores de A, B, C que son los coeficientes de la ecuación de segundo grado, hallar sus raíces reales, desplegar los resultados."
   ]
  },
  {
   "cell_type": "code",
   "execution_count": 3,
   "metadata": {},
   "outputs": [
    {
     "name": "stdout",
     "output_type": "stream",
     "text": [
      "A: 1\n",
      "B: -9\n",
      "C: 25\n",
      "No existen raíces reales.\n"
     ]
    }
   ],
   "source": [
    "import math\n",
    "A = float(input(\"A: \"))\n",
    "B = float(input(\"B: \"))\n",
    "C = float(input(\"C: \"))\n",
    "\n",
    "aux = (A ** 2) - (4 * A *C)\n",
    "AB = 2 * A\n",
    "L = -B\n",
    "if aux > 0:\n",
    "    x1 = (L + math.sqrt(root)) / AB\n",
    "    x2 = (L - math.sqrt(root)) / AB\n",
    "    print(\"X1: %.2f, X2: %.2f\"%(x1, x2))\n",
    "else:\n",
    "    print(\"No existen raíces reales.\")"
   ]
  },
  {
   "cell_type": "markdown",
   "metadata": {},
   "source": [
    "### Resolver con WHILE:"
   ]
  },
  {
   "cell_type": "markdown",
   "metadata": {},
   "source": [
    "23. Dado dos valores A y B, realizar el producto de los dos números por sumas sucesivas, almacenar el resultado en una variable P, mostrar el resultado."
   ]
  },
  {
   "cell_type": "code",
   "execution_count": 4,
   "metadata": {},
   "outputs": [
    {
     "name": "stdout",
     "output_type": "stream",
     "text": [
      "A: 5\n",
      "B: 5\n",
      "P: 25\n"
     ]
    }
   ],
   "source": [
    "a = int(input(\"A: \"))\n",
    "b = int(input(\"B: \"))\n",
    "p = 0\n",
    "while a > 0:\n",
    "    p += b\n",
    "    a -= 1\n",
    "print(\"P: %d\"%(p))"
   ]
  },
  {
   "cell_type": "markdown",
   "metadata": {},
   "source": [
    "24. Dado un número X, determinar el número de dígitos del que esta compuesto y desplegar el resultado."
   ]
  },
  {
   "cell_type": "code",
   "execution_count": 6,
   "metadata": {},
   "outputs": [
    {
     "name": "stdout",
     "output_type": "stream",
     "text": [
      "X: 5487958645\n",
      "Dígitos: 10\n"
     ]
    }
   ],
   "source": [
    "x = int(input(\"X: \"))\n",
    "c = 0\n",
    "while x > 0:\n",
    "    x = int(x / 10)\n",
    "    c += 1\n",
    "\n",
    "print(\"Dígitos: %s\"%(c))"
   ]
  },
  {
   "cell_type": "markdown",
   "metadata": {},
   "source": [
    "25. Escribir un programa que calcule y visualice el más grande, el más pequeño y la media de N números. El valor de N se solicitará al principio del programa y los números serán introducidos por el usuario."
   ]
  },
  {
   "cell_type": "code",
   "execution_count": 8,
   "metadata": {},
   "outputs": [
    {
     "name": "stdout",
     "output_type": "stream",
     "text": [
      "Cantidad de números: 5\n",
      "Valor 1: 5\n",
      "Valor 2: 4\n",
      "Valor 3: 6\n",
      "Valor 4: 8\n",
      "Valor 5: 7\n",
      "Mínimo: 4, Máximo: 8, Media: 6.00\n"
     ]
    }
   ],
   "source": [
    "n = []\n",
    "N = int(input(\"Cantidad de números: \"))\n",
    "a = 0\n",
    "while a < N:\n",
    "    n.append(int(input(\"Valor %d: \"%(a + 1))))\n",
    "    a += 1\n",
    "s, m,M = sum(n) / len(n), min(n), max(n)\n",
    "print(\"Mínimo: %d, Máximo: %d, Media: %.2f\"%(m, M, s))"
   ]
  },
  {
   "cell_type": "markdown",
   "metadata": {},
   "source": [
    "26. Dado dos números A y B enteros mayores a cero, hallar A^B por sumas. Desplegar los números y el resultado."
   ]
  },
  {
   "cell_type": "code",
   "execution_count": 9,
   "metadata": {},
   "outputs": [
    {
     "name": "stdout",
     "output_type": "stream",
     "text": [
      "A: 5\n",
      "B: 9\n",
      "A^B: 1953125\n"
     ]
    }
   ],
   "source": [
    "def mult(a, b):\n",
    "    i = 0\n",
    "    while a > 0:\n",
    "        i += b\n",
    "        a -=1\n",
    "    return i\n",
    "\n",
    "a, b = int(input(\"A: \")), int(input(\"B: \"))\n",
    "while a < 1 or b < 1:\n",
    "    print(\"Deben ser mayores a 0\")\n",
    "    a, b = int(input(\"A: \")), int(input(\"B: \"))\n",
    "i = b - 2\n",
    "aux = mult(a, a)\n",
    "while i > 0:\n",
    "    aux = mult(aux, a)\n",
    "    i -= 1\n",
    "print(\"A^B: %d\"%(aux))"
   ]
  },
  {
   "cell_type": "markdown",
   "metadata": {},
   "source": [
    "### Resolver con FOR:"
   ]
  },
  {
   "cell_type": "markdown",
   "metadata": {},
   "source": [
    "27. La constante pi (3.1441592...) es muy utilizada en matemáticas. Un método sencillo de calcular su valor es: Escribir un programa que efectúe este cálculo con un número de términos especificando por el usuario."
   ]
  },
  {
   "cell_type": "code",
   "execution_count": 13,
   "metadata": {},
   "outputs": [
    {
     "name": "stdout",
     "output_type": "stream",
     "text": [
      "Número de términos: 10000\n",
      "PI: 3.141750\n"
     ]
    }
   ],
   "source": [
    "n = int(input(\"Número de términos: \"))\n",
    "c, p, b, t = 1, 2, 1, 2\n",
    "for i in range(n + 1):\n",
    "    p *= (t / b)\n",
    "    if c:\n",
    "        c = 0\n",
    "        b += 2\n",
    "    else:\n",
    "        c = 1\n",
    "        t += 2\n",
    "print(\"PI: %f\"%(p))"
   ]
  },
  {
   "cell_type": "markdown",
   "metadata": {},
   "source": [
    "28. El valor de e x se puede aproximar por la suma: Escribir un programa que tome un valor de x como entrada y visualice la suma para cada uno de los valores de 1 a 100."
   ]
  },
  {
   "cell_type": "code",
   "execution_count": 15,
   "metadata": {},
   "outputs": [
    {
     "name": "stdout",
     "output_type": "stream",
     "text": [
      "X: 1\n",
      "e^x = 2.718282\n"
     ]
    }
   ],
   "source": [
    "def fact(n):\n",
    "    if n == 0 or n == 1:\n",
    "        return 1\n",
    "    else:\n",
    "        return n * fact(n - 1)\n",
    "\n",
    "x = int(input(\"X: \"))\n",
    "s = 0\n",
    "for i in range(101):\n",
    "    s += ((x ** i) / fact(i))\n",
    "print(\"e^x = %f\"%(s))\n"
   ]
  },
  {
   "cell_type": "markdown",
   "metadata": {},
   "source": [
    "### USO DE LISTAS ANIDADAS:"
   ]
  },
  {
   "cell_type": "markdown",
   "metadata": {},
   "source": [
    "29. Calcular la suma de todos los elementos de un vector, así como la media aritmética."
   ]
  },
  {
   "cell_type": "code",
   "execution_count": 17,
   "metadata": {},
   "outputs": [
    {
     "name": "stdout",
     "output_type": "stream",
     "text": [
      "Números: 1 2 3\n",
      "Suma: 6, Media: 2.00\n"
     ]
    }
   ],
   "source": [
    "n = list(map(int, input(\"Números: \").split()))\n",
    "s = sum(n)\n",
    "print(\"Suma: %d, Media: %.2f\"%(s, s / len(n)))"
   ]
  },
  {
   "cell_type": "markdown",
   "metadata": {},
   "source": [
    "30. Multiplicar dos matrices."
   ]
  },
  {
   "cell_type": "code",
   "execution_count": 19,
   "metadata": {},
   "outputs": [
    {
     "data": {
      "text/plain": [
       "array([[ 7, 10, 13],\n",
       "       [15, 22, 29],\n",
       "       [23, 34, 45]])"
      ]
     },
     "execution_count": 19,
     "metadata": {},
     "output_type": "execute_result"
    }
   ],
   "source": [
    "import numpy as np\n",
    "\n",
    "A=np.array([[1,2],\n",
    "            [3,4],\n",
    "            [5,6]]) \n",
    "B=np.array([[1,2,3],\n",
    "            [3,4,5]])\n",
    "np.dot(A,B)"
   ]
  },
  {
   "cell_type": "code",
   "execution_count": null,
   "metadata": {},
   "outputs": [],
   "source": []
  }
 ],
 "metadata": {
  "kernelspec": {
   "display_name": "Python 3",
   "language": "python",
   "name": "python3"
  },
  "language_info": {
   "codemirror_mode": {
    "name": "ipython",
    "version": 3
   },
   "file_extension": ".py",
   "mimetype": "text/x-python",
   "name": "python",
   "nbconvert_exporter": "python",
   "pygments_lexer": "ipython3",
   "version": "3.7.4"
  }
 },
 "nbformat": 4,
 "nbformat_minor": 2
}
